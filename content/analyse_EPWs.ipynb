{
 "cells": [
  {
   "cell_type": "code",
   "execution_count": null,
   "metadata": {},
   "outputs": [],
   "source": [
    "import numpy as np\n",
    "import pandas as pd\n",
    "import matplotlib.pyplot as plt\n",
    "import os"
   ]
  },
  {
   "cell_type": "code",
   "execution_count": null,
   "metadata": {},
   "outputs": [],
   "source": [
    "cwd = os.getcwd()\n",
    "cwd"
   ]
  },
  {
   "cell_type": "markdown",
   "metadata": {},
   "source": [
    "# Define function to read EPW files"
   ]
  },
  {
   "cell_type": "markdown",
   "metadata": {},
   "source": [
    "The **read_epw** function reads a file formatted as per Energy Plus Weather (EPW) standard and converts it into a pandas dataframe with the corresponding column header and datetime index. The function also prints the basic description of the location (source, station, latitude, longitude, time zone and altitude) and the actual meteorological years from which the file was constructed."
   ]
  },
  {
   "cell_type": "code",
   "execution_count": null,
   "metadata": {},
   "outputs": [],
   "source": [
    "epw_header = ['year', 'month', 'day', 'hour', 'minute', 'u_flag', 'Dry bulb T [C]', 'Dew point T [C]',\n",
    "              'Rel Humidity [%]', 'Atm pressure [Pa]', 'GHIe [Wh/m2]', 'DNIe [Wh/m2]', 'Infrared horiz rad [Wh/m2]',\n",
    "              'GHI [Wh/m2]', 'DNI [Wh/m2]', 'DHI [Wh/m2]', 'GHE [lx]', 'DNE [lx]', 'DHE [lx]', 'Zenith lum [cd/m2]',\n",
    "              'Wind direction [deg]', 'Wind speed [m/s]', 'Total sky cover', 'Opaque sky cover', 'Visibility [km]',\n",
    "              'Ceiling height [m]', 'Present wea observation', 'Present wea codes', 'Precipitable water [mm]',\n",
    "              'Aerosol optical depth', 'Snow depth [cm]', 'Days since last snow', 'Albedo',\n",
    "              'Liquid precipitation depth [mm]',\n",
    "              'Liquid precipitation quantity [hr]']\n",
    "\n",
    "\n",
    "def read_epw(fn, year=None, printcoord=False):\n",
    "    \"\"\"\n",
    "    Reads an EPW format climate file and saves it as a DataFrame. The first year found in the file is \n",
    "    assigned to the entire dataframe, to make it easier to use pandas datetimeindex functions.\n",
    "    :param fn: file name string\n",
    "    :return: pandas DataFrame with header and datetime index, [lat [+N], lon [+E], tz [+E], altitude]\n",
    "    \"\"\"\n",
    "    with open(fn) as f:\n",
    "        line = f.readline()\n",
    "        print(line)\n",
    "\n",
    "    lat = float(line.split(',')[6])\n",
    "    lon = float(line.split(',')[7])\n",
    "    tz = float(line.split(',')[8])\n",
    "    alt = float(line.split(',')[9])\n",
    "\n",
    "    epw = pd.read_csv(fn, skiprows=8, header=None, names=epw_header, na_values=[999999999])\n",
    "    epw['hour'] = epw['hour'] - 1\n",
    "    for i in range(12):\n",
    "        print(epw.loc[(360+i*720),'year'])\n",
    "    print('\\n')\n",
    "    \n",
    "    if year is not None:\n",
    "        epw['year'] = year\n",
    "    else:\n",
    "        epw['year'] = epw['year'][0]\n",
    "    epw.index = pd.to_datetime(epw[['year', 'month', 'day', 'hour']])\n",
    "    epw = epw.iloc[:, 5:]\n",
    "\n",
    "    if printcoord:\n",
    "        return epw, lat, lon, tz, alt\n",
    "    else:\n",
    "        return epw"
   ]
  },
  {
   "cell_type": "markdown",
   "metadata": {},
   "source": [
    "# Upload weather files"
   ]
  },
  {
   "cell_type": "markdown",
   "metadata": {},
   "source": [
    "We are going to upload and then compare four different weather files. They are all formatted in the EPW format but they represent different climatic conditions for Rotterdam/Amsterdam (not all files could be retrieved for Rotterdam, so we are going to use the two locations interchangeably).\n",
    "\n",
    "The four files represent the following conditions:\n",
    "1. **iwec_AMS** = constructed from a range of 20-30 years to represent most **typical** weather conditions, distributed by ASHRAE on the Energy Plus website (https://energyplus.net/weather) as an IWEC file. It is a reliable but outdated source of data.\n",
    "2. **oneb_RTD** = constructed from a range of about 60 years to represent most **typical** weather conditions and including more recent decades, sourced from the Climate.OneBuilding.org project (https://climate.onebuilding.org). Somewhat less reliable construction process, especially for solar irradiation data, but containing more recent data.\n",
    "3. **hist_RTD** = **historical** weather data from Rotterdam airport for the year 2022, sourced from a combination of satellite weather data from the NOAA and CAMS services.\n",
    "4. **futu_AMS** = morphed data constructed from iwec_AMS to represent weather conditions under a **possible future climate change scenario** for the year 2080, obtained from the CCWeatherGenerator tool.\n",
    "\n",
    "For the chosen location (Amsterdam/Rotterdam) the files were created from these years:\n",
    "1. 1982-1999\n",
    "2. 1957-2015\n",
    "3. 2022\n",
    "4. 2080\n",
    "\n",
    "When the file is uploaded and read with the function **read_epw** defined above, the year from which each month was extracted is printed out."
   ]
  },
  {
   "cell_type": "code",
   "execution_count": null,
   "metadata": {},
   "outputs": [],
   "source": [
    "iwec_AMS_fn = 'EPW-MEGA/IWEC/NLD_Amsterdam.062400_IWEC.epw'\n",
    "oneb_RTD_fn = 'EPW-MEGA/OneBuilding/NLD_ZH_Rotterdam.The.Hague.AP.063440_TMYx.epw'\n",
    "hist_RTD_fn = 'EPW-MEGA/Historical/Rotterdam-ISD063440-2022.epw'\n",
    "futu_AMS_fn = 'EPW-MEGA/CCWeaGenerator/NLD_AMSTERDAM_HadCM3-A2-2080.epw'\n",
    "\n",
    "iwec_AMS = read_epw(iwec_AMS_fn) \n",
    "oneb_RTD = read_epw(oneb_RTD_fn) \n",
    "hist_RTD = read_epw(hist_RTD_fn)\n",
    "futu_AMS = read_epw(futu_AMS_fn)\n",
    "\n",
    "allweafiles = {'IWEC': iwec_AMS, \n",
    "                'OneBuild': oneb_RTD, \n",
    "                'Hist': hist_RTD, \n",
    "                'Future': futu_AMS}"
   ]
  },
  {
   "cell_type": "markdown",
   "metadata": {},
   "source": [
    "# Compare weather series from different files"
   ]
  },
  {
   "cell_type": "markdown",
   "metadata": {},
   "source": [
    "Here we are going to compare monthly averages of a few different weather parameters found in our four weather files. You can assign anyone of the column names found in the **epw_header** list to the variable **par** to check how that specific variable changes between files."
   ]
  },
  {
   "cell_type": "code",
   "execution_count": null,
   "metadata": {},
   "outputs": [],
   "source": [
    "par = 'Dry bulb T [C]' \n",
    "# par = 'Rel Humidity [%]'\n",
    "# par = 'GHI [Wh/m2]'\n",
    "\n",
    "fig, axs = plt.subplots(1, 2, figsize=(10,5), sharey=True, gridspec_kw={'width_ratios': [3, 1]})\n",
    "\n",
    "axs[0].plot(iwec_AMS[par].resample('M').mean().values, color='C0', label='IWEC')\n",
    "axs[0].plot(iwec_AMS[par].resample('M').min().values, color='C0', ls='--')\n",
    "axs[0].plot(iwec_AMS[par].resample('M').max().values, color='C0', ls='--')\n",
    "\n",
    "axs[0].plot(oneb_RTD[par].resample('M').mean().values, color='C1', label='OneBuild')\n",
    "axs[0].plot(oneb_RTD[par].resample('M').min().values, color='C1', ls='--')\n",
    "axs[0].plot(oneb_RTD[par].resample('M').max().values, color='C1', ls='--')\n",
    "\n",
    "axs[0].plot(hist_RTD[par].resample('M').mean().values, color='C2', label='Hist')\n",
    "axs[0].plot(hist_RTD[par].resample('M').min().values, color='C2', ls='--')\n",
    "axs[0].plot(hist_RTD[par].resample('M').max().values, color='C2', ls='--')\n",
    "\n",
    "axs[0].plot(futu_AMS[par].resample('M').mean().values, color='C3', label='Future')\n",
    "axs[0].plot(futu_AMS[par].resample('M').min().values, color='C3', ls='--')\n",
    "axs[0].plot(futu_AMS[par].resample('M').max().values, color='C3', ls='--')\n",
    "\n",
    "axs[0].grid(axis='y')\n",
    "axs[0].set_xlabel('Month')\n",
    "axs[0].set_ylabel(par)\n",
    "axs[0].legend()\n",
    "\n",
    "axs[1].boxplot([iwec_AMS[par],oneb_RTD[par],hist_RTD[par][~np.isnan(hist_RTD[par])],futu_AMS[par]],\n",
    "              medianprops=dict(color='k'), showmeans=True)\n",
    "axs[1].set_xticklabels(['IWEC','OneBuild','Hist','Future'])\n",
    "\n",
    "axs[1].grid(axis='y')\n",
    "    \n",
    "plt.tight_layout()\n",
    "plt.show()"
   ]
  },
  {
   "cell_type": "markdown",
   "metadata": {},
   "source": [
    "\n",
    "\n",
    "Now we look closer at the summer hourly weather variables, and compare them for the months of June, July and August. Comment or uncomment the different weather files by using the sign '#'."
   ]
  },
  {
   "cell_type": "code",
   "execution_count": null,
   "metadata": {},
   "outputs": [],
   "source": [
    "months = [6,7,8]\n",
    "\n",
    "fig, ax = plt.subplots(figsize=(10,5))\n",
    "\n",
    "ax.plot(iwec_AMS[par][iwec_AMS.index.month.isin(months)].values, color='C0', lw=1, label='IWEC')\n",
    "# ax.plot(oneb_RTD[par][iwec_AMS.index.month.isin(months)].values, color='C1', lw=1, label='OneBuild')\n",
    "# ax.plot(hist_RTD[par][iwec_AMS.index.month.isin(months)].values, color='C2', lw=1, label='Hist')\n",
    "ax.plot(futu_AMS[par][iwec_AMS.index.month.isin(months)].values, color='C3', lw=1, label='Future')\n",
    "\n",
    "ax.axhline(21, color='k', ls=':')\n",
    "ax.axhline(26, color='k', ls=':')\n",
    "\n",
    "plt.ylim(10,40)\n",
    "plt.xlabel('Hours')\n",
    "plt.ylabel(par)\n",
    "\n",
    "plt.legend(frameon=False)\n",
    "\n",
    "plt.show()"
   ]
  },
  {
   "cell_type": "markdown",
   "metadata": {},
   "source": [
    "# Calculate Cooling Degree Days for each weather file"
   ]
  },
  {
   "cell_type": "markdown",
   "metadata": {},
   "source": [
    "We are now going to calculate the Cooling Degree Days expected for each weather file. We set a base temperature of 21$\\mathrm{^o}$C, find the days for which the average temperature is above the base one, and sum the total of this difference in degrees."
   ]
  },
  {
   "cell_type": "code",
   "execution_count": null,
   "metadata": {},
   "outputs": [],
   "source": [
    "base_temp = 21.\n",
    "\n",
    "for n, df in zip(allweafiles.keys(), allweafiles.values()):\n",
    "    diff = df['Dry bulb T [C]'].resample('D').mean() - base_temp\n",
    "    cdd = diff[diff>0].sum()\n",
    "    print(n)\n",
    "    print('Cooling Degree Days (CDD) = %d\\n' % round(cdd))"
   ]
  }
 ],
 "metadata": {
  "kernelspec": {
   "display_name": "Python 3 (ipykernel)",
   "language": "python",
   "name": "python3"
  },
  "language_info": {
   "codemirror_mode": {
    "name": "ipython",
    "version": 3
   },
   "file_extension": ".py",
   "mimetype": "text/x-python",
   "name": "python",
   "nbconvert_exporter": "python",
   "pygments_lexer": "ipython3",
   "version": "3.9.7"
  }
 },
 "nbformat": 4,
 "nbformat_minor": 1
}
